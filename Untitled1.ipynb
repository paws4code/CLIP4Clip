{
  "nbformat": 4,
  "nbformat_minor": 0,
  "metadata": {
    "colab": {
      "provenance": [],
      "include_colab_link": true
    },
    "kernelspec": {
      "name": "python3",
      "display_name": "Python 3"
    },
    "language_info": {
      "name": "python"
    }
  },
  "cells": [
    {
      "cell_type": "markdown",
      "metadata": {
        "id": "view-in-github",
        "colab_type": "text"
      },
      "source": [
        "<a href=\"https://colab.research.google.com/github/paws4code/CLIP4Clip/blob/master/Untitled1.ipynb\" target=\"_parent\"><img src=\"https://colab.research.google.com/assets/colab-badge.svg\" alt=\"Open In Colab\"/></a>"
      ]
    },
    {
      "cell_type": "code",
      "source": [
        "!pip install gdown  # Install Google Drive downloader\n",
        "\n",
        "# Download the file using the Google Drive ID from your link\n",
        "!gdown --id 1k7NzU6wVNZYl6NxOhLXE7Hz7OrpzNLgB\n",
        "\n",
        "# Unzip the downloaded file (assuming it's a zip archive)\n",
        "!unzip -q \"/content/panda70m_subset.zip\" -d \"/content/panda70m_subset\"\n",
        "\n",
        "# Verify the contents\n",
        "!ls -l \"/content/panda70m_subset\""
      ],
      "metadata": {
        "id": "EK2uyoPwiMkD",
        "outputId": "7f7cd9e3-0e7e-4d93-cabe-f313a4410f99",
        "colab": {
          "base_uri": "https://localhost:8080/"
        }
      },
      "execution_count": 10,
      "outputs": [
        {
          "output_type": "stream",
          "name": "stdout",
          "text": [
            "Requirement already satisfied: gdown in /usr/local/lib/python3.10/dist-packages (5.2.0)\n",
            "Requirement already satisfied: beautifulsoup4 in /usr/local/lib/python3.10/dist-packages (from gdown) (4.12.3)\n",
            "Requirement already satisfied: filelock in /usr/local/lib/python3.10/dist-packages (from gdown) (3.16.1)\n",
            "Requirement already satisfied: requests[socks] in /usr/local/lib/python3.10/dist-packages (from gdown) (2.32.3)\n",
            "Requirement already satisfied: tqdm in /usr/local/lib/python3.10/dist-packages (from gdown) (4.67.1)\n",
            "Requirement already satisfied: soupsieve>1.2 in /usr/local/lib/python3.10/dist-packages (from beautifulsoup4->gdown) (2.6)\n",
            "Requirement already satisfied: charset-normalizer<4,>=2 in /usr/local/lib/python3.10/dist-packages (from requests[socks]->gdown) (3.4.0)\n",
            "Requirement already satisfied: idna<4,>=2.5 in /usr/local/lib/python3.10/dist-packages (from requests[socks]->gdown) (3.10)\n",
            "Requirement already satisfied: urllib3<3,>=1.21.1 in /usr/local/lib/python3.10/dist-packages (from requests[socks]->gdown) (2.2.3)\n",
            "Requirement already satisfied: certifi>=2017.4.17 in /usr/local/lib/python3.10/dist-packages (from requests[socks]->gdown) (2024.12.14)\n",
            "Requirement already satisfied: PySocks!=1.5.7,>=1.5.6 in /usr/local/lib/python3.10/dist-packages (from requests[socks]->gdown) (1.7.1)\n",
            "/usr/local/lib/python3.10/dist-packages/gdown/__main__.py:140: FutureWarning: Option `--id` was deprecated in version 4.3.1 and will be removed in 5.0. You don't need to pass it anymore to use a file ID.\n",
            "  warnings.warn(\n",
            "Downloading...\n",
            "From (original): https://drive.google.com/uc?id=1k7NzU6wVNZYl6NxOhLXE7Hz7OrpzNLgB\n",
            "From (redirected): https://drive.google.com/uc?id=1k7NzU6wVNZYl6NxOhLXE7Hz7OrpzNLgB&confirm=t&uuid=b4bed1ac-9fad-4a8a-8e3d-87f919e553d9\n",
            "To: /content/panda70m_training_2m_with_additional_annotation.zip\n",
            "100% 114M/114M [00:00<00:00, 122MB/s]\n",
            "replace /content/panda70m_subset/panda70m_training_2m.csv? [y]es, [n]o, [A]ll, [N]one, [r]ename: total 467820\n",
            "-rw-r--r-- 1 root root 479040992 Oct 15 17:19 panda70m_training_2m.csv\n"
          ]
        }
      ]
    }
  ]
}